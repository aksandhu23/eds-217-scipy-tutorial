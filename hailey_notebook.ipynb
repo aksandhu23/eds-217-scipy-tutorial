{
 "cells": [
  {
   "cell_type": "markdown",
   "metadata": {},
   "source": [
    "Hailey's Work"
   ]
  },
  {
   "cell_type": "code",
   "execution_count": 10,
   "metadata": {},
   "outputs": [
    {
     "name": "stdout",
     "output_type": "stream",
     "text": [
      "-1.0\n"
     ]
    }
   ],
   "source": [
    "# Time to install/import scipy\n",
    "import seaborn as sns\n",
    "import numpy as np\n",
    "from scipy.interpolate import interp1d\n",
    "\n",
    "example_equ = np.cos(np.pi)\n",
    "print(example_equ)"
   ]
  }
 ],
 "metadata": {
  "kernelspec": {
   "display_name": "Python 3.10.5 ('eds-217')",
   "language": "python",
   "name": "python3"
  },
  "language_info": {
   "codemirror_mode": {
    "name": "ipython",
    "version": 3
   },
   "file_extension": ".py",
   "mimetype": "text/x-python",
   "name": "python",
   "nbconvert_exporter": "python",
   "pygments_lexer": "ipython3",
   "version": "3.10.5"
  },
  "orig_nbformat": 4,
  "vscode": {
   "interpreter": {
    "hash": "f381589d1608f20391d40ab209118d38c5c0a35b48cf707b011d613afb3c3af2"
   }
  }
 },
 "nbformat": 4,
 "nbformat_minor": 2
}

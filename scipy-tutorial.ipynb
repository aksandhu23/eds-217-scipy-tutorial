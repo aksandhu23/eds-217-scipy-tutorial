{
 "cells": [
  {
   "cell_type": "markdown",
   "metadata": {},
   "source": [
    "Scipy Tutorial!"
   ]
  },
  {
   "cell_type": "markdown",
   "metadata": {},
   "source": [
    "Here is the Interpolation Example:"
   ]
  },
  {
   "cell_type": "code",
   "execution_count": null,
   "metadata": {},
   "outputs": [],
   "source": []
  },
  {
   "cell_type": "markdown",
   "metadata": {},
   "source": [
    "Here is the Stats Example"
   ]
  },
  {
   "cell_type": "code",
   "execution_count": null,
   "metadata": {},
   "outputs": [],
   "source": [
    "# Time to import scipy\n",
    "import matplotlib.pyplot as plt\n",
    "import seaborn as sns\n",
    "import numpy as np\n",
    "import pandas as pd\n",
    "import scipy.stats as st"
   ]
  },
  {
   "cell_type": "code",
   "execution_count": null,
   "metadata": {},
   "outputs": [],
   "source": [
    "# Set up the data\n",
    "penguins_df = sns.load_dataset('penguins')\n",
    "\n",
    "penguins_df.info()\n",
    "# Make a subset of Chinstrap\n",
    "chinstrap = penguins_df.loc[penguins_df['species'] == 'Chinstrap']\n",
    "chinstrap.head()"
   ]
  },
  {
   "cell_type": "code",
   "execution_count": null,
   "metadata": {},
   "outputs": [],
   "source": [
    "# Find standard deviation and mean\n",
    "import chunk\n",
    "fig1 = plt.figure()\n",
    "\n",
    "# Make a histogram of body_mass_g for Chinstrap penguins\n",
    "chinstrap_hist = chinstrap['body_mass_g'].plot.hist(grid=True, bins=10, rwidth=0.9, color='c', density=True)\n",
    "\n",
    "# Now we can find the distribution curve for this variable\n",
    "# First define the distribution type\n",
    "distribution = st.norm\n",
    "params = distribution.fit(chinstrap['body_mass_g'], loc=0)\n",
    "\n",
    "# These parameters are the mean and standard deviation, in that order\n",
    "print(params)\n",
    "\n",
    "arg = params[:-2]\n",
    "loc = params[-2]\n",
    "scale = params[-1]\n",
    "\n",
    "y, x = np.histogram(chinstrap['body_mass_g']) \n",
    "x = (x + np.roll(x, -1))[:-1] / 2.0\n",
    "\n",
    "# Plot!\n",
    "pdf = distribution.pdf(x, loc=loc, scale=scale, *arg)\n",
    "plt.plot(x,pdf,'b-')"
   ]
  }
 ],
 "metadata": {
  "kernelspec": {
   "display_name": "Python 3.10.5 ('eds-217')",
   "language": "python",
   "name": "python3"
  },
  "language_info": {
   "name": "python",
   "version": "3.10.5"
  },
  "orig_nbformat": 4,
  "vscode": {
   "interpreter": {
    "hash": "f381589d1608f20391d40ab209118d38c5c0a35b48cf707b011d613afb3c3af2"
   }
  }
 },
 "nbformat": 4,
 "nbformat_minor": 2
}
